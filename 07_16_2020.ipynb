{
 "cells": [
  {
   "cell_type": "code",
   "execution_count": 1,
   "metadata": {},
   "outputs": [
    {
     "data": {
      "text/plain": [
       "'\\nImplement pow(x, n), which calculates x raised to the power n (xn).\\n\\nExample 1:\\n\\nInput: 2.00000, 10\\nOutput: 1024.00000\\nExample 2:\\n\\nInput: 2.10000, 3\\nOutput: 9.26100\\nExample 3:\\n\\nInput: 2.00000, -2\\nOutput: 0.25000\\nExplanation: 2-2 = 1/22 = 1/4 = 0.25\\nNote:\\n\\n-100.0 < x < 100.0\\nn is a 32-bit signed integer, within the range [−231, 231 − 1]\\n'"
      ]
     },
     "execution_count": 1,
     "metadata": {},
     "output_type": "execute_result"
    }
   ],
   "source": [
    "# python 3.6\n",
    "# LeetCode daily problem 07/16/2020\n",
    "# Coded with <3 by Daniel Blessing\n",
    "'''\n",
    "Implement pow(x, n), which calculates x raised to the power n (xn).\n",
    "\n",
    "Example 1:\n",
    "\n",
    "Input: 2.00000, 10\n",
    "Output: 1024.00000\n",
    "Example 2:\n",
    "\n",
    "Input: 2.10000, 3\n",
    "Output: 9.26100\n",
    "Example 3:\n",
    "\n",
    "Input: 2.00000, -2\n",
    "Output: 0.25000\n",
    "Explanation: 2-2 = 1/22 = 1/4 = 0.25\n",
    "Note:\n",
    "\n",
    "-100.0 < x < 100.0\n",
    "n is a 32-bit signed integer, within the range [−231, 231 − 1]\n",
    "'''"
   ]
  },
  {
   "cell_type": "code",
   "execution_count": 2,
   "metadata": {},
   "outputs": [],
   "source": [
    "# this is pretty easy in python\n",
    "class Solution:\n",
    "    def myPow(self, x: float, n: int) -> float:\n",
    "        return x ** n "
   ]
  }
 ],
 "metadata": {
  "kernelspec": {
   "display_name": "Python 3",
   "language": "python",
   "name": "python3"
  },
  "language_info": {
   "codemirror_mode": {
    "name": "ipython",
    "version": 3
   },
   "file_extension": ".py",
   "mimetype": "text/x-python",
   "name": "python",
   "nbconvert_exporter": "python",
   "pygments_lexer": "ipython3",
   "version": "3.7.7"
  }
 },
 "nbformat": 4,
 "nbformat_minor": 4
}
